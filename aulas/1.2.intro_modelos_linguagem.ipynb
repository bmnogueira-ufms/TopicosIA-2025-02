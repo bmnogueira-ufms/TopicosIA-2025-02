{
 "cells": [
  {
   "cell_type": "markdown",
   "id": "91876adb",
   "metadata": {
    "id": "91876adb"
   },
   "source": [
    "# Aula 1.2 — Introdução a Embeddings - Embeddings"
   ]
  },
  {
   "cell_type": "markdown",
   "id": "3ce10522",
   "metadata": {
    "id": "3ce10522"
   },
   "source": [
    "# Instalação dos pacotes necessários / Configuração da máquina"
   ]
  },
  {
   "cell_type": "code",
   "execution_count": null,
   "id": "f474fc75",
   "metadata": {
    "id": "f474fc75"
   },
   "outputs": [],
   "source": [
    "# Instalação das dependências localmente\n",
    "# Se estiver rodando localmente, descomente a linha abaixo para instalar as dependências\n",
    "# ! pip install -r requirements.txt"
   ]
  },
  {
   "cell_type": "code",
   "execution_count": 1,
   "id": "0dc19317",
   "metadata": {
    "colab": {
     "base_uri": "https://localhost:8080/"
    },
    "executionInfo": {
     "elapsed": 4889,
     "status": "ok",
     "timestamp": 1755221670777,
     "user": {
      "displayName": "Bruno Magalhaes Nogueira",
      "userId": "18320277366917905276"
     },
     "user_tz": 240
    },
    "id": "0dc19317",
    "outputId": "618faa86-a74a-4649-ece1-ccd672d7b751"
   },
   "outputs": [
    {
     "name": "stdout",
     "output_type": "stream",
     "text": [
      "Mounted at /content/drive/\n"
     ]
    }
   ],
   "source": [
    "# Se rodando no Google Colab, descomente a linha abaixo para montar o Google Drive\n",
    "from google.colab import drive\n",
    "drive.mount('/content/drive/', force_remount=True)"
   ]
  },
  {
   "cell_type": "code",
   "execution_count": 2,
   "id": "43d486cd",
   "metadata": {
    "executionInfo": {
     "elapsed": 13,
     "status": "ok",
     "timestamp": 1755221670811,
     "user": {
      "displayName": "Bruno Magalhaes Nogueira",
      "userId": "18320277366917905276"
     },
     "user_tz": 240
    },
    "id": "43d486cd"
   },
   "outputs": [],
   "source": [
    "# Instalação das dependências no Google Colab\n",
    "# Mude CAMINHO_PARA_REPO para o caminho correto do seu repositório no seu Google Drive\n",
    "# ! pip install -r /content/drive/MyDrive/UFMS/Aulas/2025-2/TOPIA/repo/TopicosIA-2025-02/requirements.txt"
   ]
  },
  {
   "cell_type": "code",
   "execution_count": 3,
   "id": "cc1f83ef",
   "metadata": {
    "executionInfo": {
     "elapsed": 6028,
     "status": "ok",
     "timestamp": 1755221710060,
     "user": {
      "displayName": "Bruno Magalhaes Nogueira",
      "userId": "18320277366917905276"
     },
     "user_tz": 240
    },
    "id": "cc1f83ef"
   },
   "outputs": [],
   "source": [
    "import numpy as np\n",
    "import matplotlib.pyplot as plt\n",
    "from sklearn.decomposition import PCA\n",
    "from sklearn.manifold import TSNE\n",
    "import torch\n",
    "import torch.nn as nn\n",
    "import torch.optim as optim\n",
    "from gensim.models import Word2Vec"
   ]
  },
  {
   "cell_type": "markdown",
   "id": "491500a3",
   "metadata": {
    "id": "491500a3"
   },
   "source": [
    "## Onde estávamos: representações vetoriais tradicionais\n",
    "- **One-hot:** vetor esparso com 1 na posição da palavra e 0 no resto.  \n",
    "- **BoW (bag-of-words):** conta frequências de palavras, **ignora ordem**.  \n",
    "- **n-gramas:** leva em conta sequências de tamanho *n* (ex.: bigramas), porém o espaço cresce muito.\n",
    "\n",
    "**Consequência:** essas representações são úteis, mas **não codificam semelhança semântica** (ex.: *bom* vs *ótimo* são ortogonais em one-hot) e podem **falhar com negação** e **ordem**."
   ]
  },
  {
   "cell_type": "code",
   "execution_count": 4,
   "id": "cb26b814",
   "metadata": {
    "colab": {
     "base_uri": "https://localhost:8080/"
    },
    "executionInfo": {
     "elapsed": 7,
     "status": "ok",
     "timestamp": 1755221714277,
     "user": {
      "displayName": "Bruno Magalhaes Nogueira",
      "userId": "18320277366917905276"
     },
     "user_tz": 240
    },
    "id": "cb26b814",
    "outputId": "a9e3e8f5-fd18-48e9-812d-86f1a45cd1e6"
   },
   "outputs": [
    {
     "name": "stdout",
     "output_type": "stream",
     "text": [
      "cos( 'o filme é bom', 'o filme é ótimo'): 0.75\n",
      "cos( 'o filme é bom', 'o filme não é bom'): 0.894\n"
     ]
    }
   ],
   "source": [
    "import numpy as np\n",
    "from collections import Counter\n",
    "\n",
    "def cosine(u, v, eps=1e-9):\n",
    "    u = np.array(u, dtype=float); v = np.array(v, dtype=float)\n",
    "    return float(u.dot(v) / (np.linalg.norm(u)*np.linalg.norm(v) + eps))\n",
    "\n",
    "# Vocabulário pequeno para ilustração\n",
    "vocab = [\"o\",\"filme\",\"é\",\"não\",\"bom\",\"ótimo\",\"atendeu\",\"paciente\",\"hospital\"]\n",
    "tok2idx = {t:i for i,t in enumerate(vocab)}\n",
    "\n",
    "def bow_vector(tokens):\n",
    "    x = np.zeros(len(vocab), dtype=float)\n",
    "    for t in tokens:\n",
    "        if t in tok2idx: x[tok2idx[t]] += 1\n",
    "    return x\n",
    "\n",
    "s1 = \"o filme é bom\".split()\n",
    "s2 = \"o filme é ótimo\".split()\n",
    "s3 = \"o filme não é bom\".split()\n",
    "\n",
    "v1, v2, v3 = map(bow_vector, [s1,s2,s3])\n",
    "\n",
    "print(\"cos( 'o filme é bom', 'o filme é ótimo'):\", round(cosine(v1,v2),3))\n",
    "print(\"cos( 'o filme é bom', 'o filme não é bom'):\", round(cosine(v1,v3),3))"
   ]
  },
  {
   "cell_type": "markdown",
   "id": "f54d2167",
   "metadata": {
    "id": "f54d2167"
   },
   "source": [
    "### Ordem importa, e BoW não vê\n",
    "Com BoW, **“o paciente atendeu o hospital”** e **“o hospital atendeu o paciente”** são idênticas.  \n",
    "Bigramas ajudam um pouco, mas o **número de features explode**."
   ]
  },
  {
   "cell_type": "code",
   "execution_count": 5,
   "id": "b4bee9ee",
   "metadata": {
    "colab": {
     "base_uri": "https://localhost:8080/"
    },
    "executionInfo": {
     "elapsed": 26,
     "status": "ok",
     "timestamp": 1755221716683,
     "user": {
      "displayName": "Bruno Magalhaes Nogueira",
      "userId": "18320277366917905276"
     },
     "user_tz": 240
    },
    "id": "b4bee9ee",
    "outputId": "b01d30e9-8b9d-4e8a-9320-0d64a8370a86"
   },
   "outputs": [
    {
     "name": "stdout",
     "output_type": "stream",
     "text": [
      "BoW (ignora ordem) — cos: 1.0 (idênticas)\n",
      "Bigramas (vê ordem)  — cos: 0.75 (diferentes)\n"
     ]
    }
   ],
   "source": [
    "def ngrams(tokens, n=2):\n",
    "    return [\"_\".join(tokens[i:i+n]) for i in range(len(tokens)-n+1)]\n",
    "\n",
    "def vec_from_counts(counts, vocab):\n",
    "    x = np.zeros(len(vocab), dtype=float)\n",
    "    for i,t in enumerate(vocab):\n",
    "        x[i] = counts.get(t, 0.0)\n",
    "    return x\n",
    "\n",
    "a = \"o hospital atendeu o paciente\".split()\n",
    "b = \"o paciente atendeu o hospital\".split()\n",
    "\n",
    "# BoW (unigramas)\n",
    "u_vocab = vocab  # já definido\n",
    "ua, ub = bow_vector(a), bow_vector(b)\n",
    "\n",
    "# Bigramas\n",
    "bigrams_a = Counter(ngrams(a,2))\n",
    "bigrams_b = Counter(ngrams(b,2))\n",
    "b_vocab = sorted(list(set(list(bigrams_a)+list(bigrams_b))))\n",
    "xba = vec_from_counts(bigrams_a, b_vocab)\n",
    "xbb = vec_from_counts(bigrams_b, b_vocab)\n",
    "\n",
    "print(\"BoW (ignora ordem) — cos:\", round(cosine(ua,ub),3), \"(idênticas)\")\n",
    "print(\"Bigramas (vê ordem)  — cos:\", round(cosine(xba,xbb),3), \"(diferentes)\")"
   ]
  },
  {
   "cell_type": "markdown",
   "id": "a46ba111",
   "metadata": {
    "id": "a46ba111"
   },
   "source": [
    "### Por que n-gramas não escalam?\n",
    "- Com vocabulário \\(V\\), o número potencial de **bigramas** é \\(O(V^2)\\); de **trigramas**, \\(O(V^3)\\).  \n",
    "- Mesmo usando estruturas **esparsas**, o custo de memória/treino cresce rápido e muitos n-gramas raramente aparecem.\n",
    "\n",
    "**Moral da história:** precisamos de **vetores densos** que **generalizem** além do que foi visto *literalmente*."
   ]
  },
  {
   "cell_type": "code",
   "execution_count": 6,
   "id": "f53c037a",
   "metadata": {
    "colab": {
     "base_uri": "https://localhost:8080/"
    },
    "executionInfo": {
     "elapsed": 10,
     "status": "ok",
     "timestamp": 1755221718976,
     "user": {
      "displayName": "Bruno Magalhaes Nogueira",
      "userId": "18320277366917905276"
     },
     "user_tz": 240
    },
    "id": "f53c037a",
    "outputId": "ff0d9061-998a-440c-e714-100c283cd82a"
   },
   "outputs": [
    {
     "name": "stdout",
     "output_type": "stream",
     "text": [
      "\n",
      "Vocabulário V=5,000\n",
      "  n=1: ~5,000 features potenciais\n",
      "  n=2: ~25,000,000 features potenciais\n",
      "  n=3: ~125,000,000,000 features potenciais\n",
      "\n",
      "Vocabulário V=50,000\n",
      "  n=1: ~50,000 features potenciais\n",
      "  n=2: ~2,500,000,000 features potenciais\n",
      "  n=3: ~125,000,000,000,000 features potenciais\n"
     ]
    }
   ],
   "source": [
    "def possible_ngrams(V, n):  # estimativa grosseira O(V^n)\n",
    "    return V**n\n",
    "\n",
    "for V in [5_000, 50_000]:\n",
    "    print(f\"\\nVocabulário V={V:,}\")\n",
    "    for n in [1,2,3]:\n",
    "        print(f\"  n={n}: ~{possible_ngrams(V,n):,} features potenciais\")"
   ]
  },
  {
   "cell_type": "markdown",
   "id": "e9bfdbb2",
   "metadata": {
    "id": "e9bfdbb2"
   },
   "source": [
    "## O que são **embeddings**?\n",
    "\n",
    "- Uma **função aprendida** que mapeia palavras, sub-palavras ou sentenças para **vetores densos** de baixa dimensão:\n",
    "\n",
    "$$\n",
    "f: \\mathcal{X} \\to \\mathbb{R}^d \\quad \\text{com} \\quad d \\ll |\\mathcal{X}|\n",
    "$$\n",
    "\n",
    "- **Princípio distribucional:** palavras com **contextos semelhantes** tendem a ter **vetores próximos** (alto cosseno).  \n",
    "- **Geometria útil:** *direções* e *distâncias* capturam relações (semelhança, analogias).\n",
    "\n",
    "Imagine num **mapa semântico**: *praia* fica perto de *mar*, longe de *hospital*; *médico* se aproxima de *saúde*, etc.\n",
    "\n",
    "### Vantagens sobre BoW / n-gramas\n",
    "\n",
    "- **Compartilham informação** entre palavras parecidas (ex.: *bom* e *ótimo*).  \n",
    "- **Generalizam** para contextos não vistos literalmente.  \n",
    "- Dimensão **controlada** (50–768+), em vez de crescer com:\n",
    "\n",
    "$$\n",
    "V, \\quad V^2, \\quad V^3\n",
    "$$"
   ]
  },
  {
   "cell_type": "markdown",
   "id": "c5156075",
   "metadata": {
    "id": "c5156075"
   },
   "source": [
    "## Como aprendemos embeddings? (alto nível)\n",
    "- **Word2Vec (Skip-gram/CBOW):** aprende vetores prevendo **contexto** da palavra (ou vice-versa).  \n",
    "- **GloVe:** fatoração explícita de coocorrências globais.  \n",
    "- **fastText:** soma vetores de **sub-palavras** (n-gramas de caracteres) → lida melhor com OOV e morfologia.  \n",
    "- **Embeddings contextuais (ELMo/BERT):** um vetor **por ocorrência**, dependente do **contexto** na sentença."
   ]
  },
  {
   "cell_type": "markdown",
   "id": "86da8c9f",
   "metadata": {
    "id": "86da8c9f"
   },
   "source": [
    "## Experimento inicial\n",
    "Vamos “sentir” na prática as limitações que motivam embeddings.\n",
    "1. **One-hot**: qualquer par de palavras diferentes tem cosseno \\(0\\).  \n",
    "2. **BoW**: frases com **negação** ou **ordem invertida** podem parecer erroneamente parecidas.  \n",
    "3. **Bigramas**: corrigem parcialmente, mas **não escalam**."
   ]
  },
  {
   "cell_type": "code",
   "execution_count": 7,
   "id": "0da9dbb5",
   "metadata": {
    "colab": {
     "base_uri": "https://localhost:8080/"
    },
    "executionInfo": {
     "elapsed": 23,
     "status": "ok",
     "timestamp": 1755221724347,
     "user": {
      "displayName": "Bruno Magalhaes Nogueira",
      "userId": "18320277366917905276"
     },
     "user_tz": 240
    },
    "id": "0da9dbb5",
    "outputId": "0a9df5d0-649f-4428-e3b5-9fc8f4cd6944"
   },
   "outputs": [
    {
     "name": "stdout",
     "output_type": "stream",
     "text": [
      "cos(one-hot('bom'), one-hot('ótimo')) = 0.0 (zero)\n"
     ]
    }
   ],
   "source": [
    "# (1) One-hot não codifica semelhança: 'bom' ~ 'ótimo'?\n",
    "def one_hot(word, vocab):\n",
    "    x = np.zeros(len(vocab), dtype=float)\n",
    "    if word in tok2idx: x[tok2idx[word]] = 1.0\n",
    "    return x\n",
    "\n",
    "oh_bom = one_hot(\"bom\", vocab)\n",
    "oh_otimo = one_hot(\"ótimo\", vocab)\n",
    "\n",
    "print(\"cos(one-hot('bom'), one-hot('ótimo')) =\", cosine(oh_bom, oh_otimo), \"(zero)\")"
   ]
  },
  {
   "cell_type": "code",
   "execution_count": 8,
   "id": "3b97f7b8",
   "metadata": {
    "colab": {
     "base_uri": "https://localhost:8080/"
    },
    "executionInfo": {
     "elapsed": 8,
     "status": "ok",
     "timestamp": 1755221748258,
     "user": {
      "displayName": "Bruno Magalhaes Nogueira",
      "userId": "18320277366917905276"
     },
     "user_tz": 240
    },
    "id": "3b97f7b8",
    "outputId": "7afa426c-d4a6-4358-f097-813bbeaca6f2"
   },
   "outputs": [
    {
     "name": "stdout",
     "output_type": "stream",
     "text": [
      "BoW  — cos(neg, pos) = 0.894\n",
      "Bi-gramas — cos(neg, pos) = 0.577\n"
     ]
    }
   ],
   "source": [
    "# (2) BoW erra na negação; (3) Bigramas ajudam um pouco\n",
    "neg = \"o filme não é bom\".split()\n",
    "pos = \"o filme é bom\".split()\n",
    "\n",
    "bow_neg, bow_pos = bow_vector(neg), bow_vector(pos)\n",
    "bi_neg = Counter(ngrams(neg,2)); bi_pos = Counter(ngrams(pos,2))\n",
    "b_vocab = sorted(list(set(list(bi_neg)+list(bi_pos))))\n",
    "xneg, xpos = vec_from_counts(bi_neg, b_vocab), vec_from_counts(bi_pos, b_vocab)\n",
    "\n",
    "print(\"BoW  — cos(neg, pos) =\", round(cosine(bow_neg, bow_pos),3))\n",
    "print(\"Bi-gramas — cos(neg, pos) =\", round(cosine(xneg, xpos),3))"
   ]
  },
  {
   "cell_type": "markdown",
   "id": "6951a85c",
   "metadata": {
    "id": "6951a85c"
   },
   "source": [
    "## Breve história (do macro ao micro)\n",
    "- **Anos 1990 — LSA/LSI:** fatoração (SVD) de matrizes termo-documento gera vetores densos.  \n",
    "- **2003 — Neural Probabilistic LM (Bengio et al.):** primeiras redes neurais aprendendo embeddings junto com o LM.  \n",
    "- **2013 — Word2Vec:** *skip-gram* / *CBOW* com *negative sampling* (rápido, popularizou embeddings).  \n",
    "- **2014 — GloVe:** vetores a partir de coocorrências globais.  \n",
    "- **2016/17 — fastText:** incorpora **sub-palavras** (morfologia e OOV).  \n",
    "- **2018 — ELMo/BERT:** **embeddings contextuais** (um vetor por ocorrência).  \n",
    "- **2019+ — Sentence-BERT e afins:** bons **embeddings de sentenças** para busca e recuperação.  \n",
    "- **2020s — LLMs (GPT, etc.):** camadas internas geram representações ricas; APIs fornecem **embeddings universais**."
   ]
  },
  {
   "cell_type": "markdown",
   "id": "4aaf9751",
   "metadata": {
    "id": "4aaf9751"
   },
   "source": [
    "## Intuição\n",
    "\n",
    "- **One-hot**: cada palavra → vetor esparso com 1 numa posição. Sem noção de semelhança.\n",
    "- **Embeddings**: mapeiam cada palavra para um vetor **denso** de baixa dimensão (ex.: 50–300), aprendidos a partir de contexto.\n",
    "- Ideia central (*Distribucional*): “Vocês conhecerão uma palavra pelo **contexto** que ela mantém”.\n",
    "\n",
    "### Do ponto de vista computacional\n",
    "\n",
    "- Vocabulário com $$V$$ palavras. Dimensão do embedding $$d \\ll V$$.  \n",
    "- Tabela $$E \\in \\mathbb{R}^{V \\times d}$$. A palavra $$w_i$$ tem vetor $$\\mathbf{e}_i = E[i]$$.\n",
    "\n",
    "- Similaridade por **cosseno**:\n",
    "\n",
    "$$\n",
    "\\text{cos}(\\mathbf{u}, \\mathbf{v}) = \\frac{\\mathbf{u}\\cdot\\mathbf{v}}{\\|\\mathbf{u}\\|\\;\\|\\mathbf{v}\\|}\n",
    "$$"
   ]
  },
  {
   "cell_type": "markdown",
   "id": "b98a6cb6",
   "metadata": {
    "id": "b98a6cb6"
   },
   "source": [
    "## De one-hot a vetores densos\n",
    "Vamos construir vetores one-hot e comparar com embeddings aleatórios (apenas para enxergar a diferença de forma)."
   ]
  },
  {
   "cell_type": "code",
   "execution_count": 9,
   "id": "8d7c89fa",
   "metadata": {
    "colab": {
     "base_uri": "https://localhost:8080/"
    },
    "executionInfo": {
     "elapsed": 8,
     "status": "ok",
     "timestamp": 1755222043874,
     "user": {
      "displayName": "Bruno Magalhaes Nogueira",
      "userId": "18320277366917905276"
     },
     "user_tz": 240
    },
    "id": "8d7c89fa",
    "outputId": "46278089-84c7-4f81-c328-32bf1ab8db9f"
   },
   "outputs": [
    {
     "name": "stdout",
     "output_type": "stream",
     "text": [
      "One-hot shape: (10, 10)\n",
      "Embeddings densos shape: (10, 5)\n"
     ]
    }
   ],
   "source": [
    "# Vocabulário de exemplo\n",
    "vocab = [\"brasil\", \"rio\", \"sao_paulo\", \"praia\", \"futebol\", \"selva\", \"amazonia\", \"cafe\", \"universidade\", \"hospital\"]\n",
    "idx = {w:i for i,w in enumerate(vocab)}\n",
    "V = len(vocab)\n",
    "d = 5  # dimensão dos embeddings \"densos\" para visualização\n",
    "\n",
    "# One-hot\n",
    "I = np.eye(V)\n",
    "\n",
    "# Embeddings densos aleatórios\n",
    "np.random.seed(42)\n",
    "E_rand = np.random.normal(scale=0.5, size=(V,d))\n",
    "\n",
    "print(\"One-hot shape:\", I.shape)\n",
    "print(\"Embeddings densos shape:\", E_rand.shape)"
   ]
  },
  {
   "cell_type": "code",
   "execution_count": 10,
   "id": "d1a2e1c3",
   "metadata": {
    "colab": {
     "base_uri": "https://localhost:8080/",
     "height": 919
    },
    "executionInfo": {
     "elapsed": 825,
     "status": "ok",
     "timestamp": 1755222066892,
     "user": {
      "displayName": "Bruno Magalhaes Nogueira",
      "userId": "18320277366917905276"
     },
     "user_tz": 240
    },
    "id": "d1a2e1c3",
    "outputId": "b522a03f-9a16-4934-d740-020dd39da0a1"
   },
   "outputs": [
    {
     "data": {
      "image/png": "[encoded data removed]",
      "text/plain": [
       "<Figure size 600x500 with 1 Axes>"
      ]
     },
     "metadata": {},
     "output_type": "display_data"
    },
    {
     "data": {
      "image/png": "[encoded data removed]",
      "text/plain": [
       "<Figure size 600x500 with 1 Axes>"
      ]
     },
     "metadata": {},
     "output_type": "display_data"
    }
   ],
   "source": [
    "# Visualização simples (PCA) dos embeddings aleatórios vs one-hot\n",
    "def plot_points(X, labels, title):\n",
    "    pca = PCA(n_components=2, random_state=0)\n",
    "    X2 = pca.fit_transform(X)\n",
    "    plt.figure(figsize=(6,5))\n",
    "    plt.scatter(X2[:,0], X2[:,1], c=\"tab:blue\")\n",
    "    for i, txt in enumerate(labels):\n",
    "        plt.annotate(txt, (X2[i,0]+0.01, X2[i,1]+0.01), fontsize=9)\n",
    "    plt.title(title)\n",
    "    plt.grid(alpha=0.3)\n",
    "    plt.show()\n",
    "\n",
    "plot_points(I, vocab, \"One-hot (projeção PCA)\")\n",
    "plot_points(E_rand, vocab, \"Vetores densos aleatórios (projeção PCA)\")"
   ]
  },
  {
   "cell_type": "markdown",
   "id": "a1a4a60f",
   "metadata": {
    "id": "a1a4a60f"
   },
   "source": [
    "**Observação:** One-hot não captura relação entre palavras. Já vetores densos *podem* capturar (se aprendidos de dados). Vamos treinar rapidamente um **Word2Vec** em um corpus pequeno de frases em PT-BR para demonstrar a ideia (não esperem qualidade de produção).  \n",
    "*Siglas usadas*: OOV (*Out-Of-Vocabulary*), PCA (Análise de Componentes Principais), t-SNE (*t-distributed Stochastic Neighbor Embedding*)."
   ]
  },
  {
   "cell_type": "code",
   "execution_count": null,
   "id": "a143ce32",
   "metadata": {
    "executionInfo": {
     "elapsed": 24,
     "status": "ok",
     "timestamp": 1755222323592,
     "user": {
      "displayName": "Bruno Magalhaes Nogueira",
      "userId": "18320277366917905276"
     },
     "user_tz": 240
    },
    "id": "a143ce32"
   },
   "outputs": [],
   "source": [
    "corpus = [\n",
    "    \"o brasil gosta de futebol\",\n",
    "    \"o rio tem praia bonita\",\n",
    "    \"sao paulo tem universidade e hospital\",\n",
    "    \"a amazonia tem selva e rios\",\n",
    "    \"o brasil produz cafe\",\n",
    "    \"o rio de janeiro tem futebol e praia\",\n",
    "    \"sao paulo tem hospital famoso\",\n",
    "    \"a universidade pesquisa inteligencia artificial\",\n",
    "    \"cafe do brasil é famoso\",\n",
    "    \"a selva da amazonia é densa\",\n",
    "    \"o hospital do rio é universitario\",\n",
    "\n",
    "    \"o cruzeiro é o melhor time do brasil\",\n",
    "    \"o time de futebol joga no estadio\",\n",
    "    \"a torcida canta no estadio\",\n",
    "    \"o jogador marcou um gol\",\n",
    "    \"o tecnico escala o time titular\",\n",
    "    \"o campeonato brasileiro tem rodada no domingo\",\n",
    "    \"o arbitro apita o jogo de futebol\",\n",
    "    \"o atacante fez dois gols no classico\",\n",
    "    \"o goleiro defendeu o penalti\",\n",
    "    \"o time treinou no campo de grama\",\n",
    "    \"o maracana fica no rio de janeiro\",\n",
    "    \"o morumbi fica em sao paulo\",\n",
    "    \"o estadio recebe finais importantes\",\n",
    "    \"o time carioca venceu o jogo\",\n",
    "    \"o time paulista empatou fora de casa\",\n",
    "    \"a base revela novos jogadores\",\n",
    "    \"o lateral cruza a bola para a area\",\n",
    "    \"o meio campista organiza o ataque\",\n",
    "    \"o zagueiro corta o cruzamento\",\n",
    "    \"o treinador analisa estatisticas do jogo\",\n",
    "\n",
    "    \"a praia de copacabana tem areia branca\",\n",
    "    \"ipanema tem mar e sol\",\n",
    "    \"o turista caminha no calcadao de copacabana\",\n",
    "    \"o surfista pega onda na praia\",\n",
    "    \"banhistas lotam a praia no verao\",\n",
    "    \"o quiosque vende agua de coco\",\n",
    "    \"o rio tem orla movimentada\",\n",
    "    \"a brisa do mar refresca a tarde\",\n",
    "    \"a praia tem guarda sol e cadeira\",\n",
    "    \"o por do sol em ipanema é bonito\",\n",
    "    \"o passeio de bicicleta na orla é popular\",\n",
    "\n",
    "    \"a universidade tem campus grande\",\n",
    "    \"o campus tem biblioteca e laboratorio\",\n",
    "    \"o professor orienta estudante de mestrado\",\n",
    "    \"a pesquisa em dados utiliza python\",\n",
    "    \"o laboratorio de ia treina redes neurais\",\n",
    "    \"a pos graduacao publica artigos cientificos\",\n",
    "    \"o grupo de pesquisa organiza seminario semanal\",\n",
    "    \"a universidade federal tem curso de computacao\",\n",
    "    \"o aluno estuda no laboratorio de informatica\",\n",
    "    \"a disciplina ensina machine learning\",\n",
    "    \"o dataset tem noticias do brasil\",\n",
    "    \"a avaliacao usa acuracia e f1\",\n",
    "    \"o modelo aprende representacoes distribuídas\",\n",
    "    \"o repositorio guarda codigo e dados\",\n",
    "    \"o professor apresenta resultados no congresso\",\n",
    "    \"o curso tem prova e projeto final\",\n",
    "    \"a biblioteca empresta livros e revistas\",\n",
    "    \"a universidade tem hospital universitario\",\n",
    "    \"a pesquisa em linguagem natural usa word2vec\",\n",
    "    \"o laboratorio de visao computacional anota imagens\",\n",
    "    \"a turma pratica classificacao de textos\",\n",
    "    \"o servidor treina o modelo com gpu\",\n",
    "    \"a extensao conecta universidade e comunidade\",\n",
    "    \"o estagio aproxima alunos do mercado\",\n",
    "\n",
    "    \"o hospital universitario atende pacientes\",\n",
    "    \"o medico realiza cirurgia no centro cirurgico\",\n",
    "    \"a enfermeira aplica vacina na sala de atendimento\",\n",
    "    \"o paciente marcou consulta com o especialista\",\n",
    "    \"a emergencia recebe ambulancia a noite\",\n",
    "    \"o laboratorio realiza exame de sangue\",\n",
    "    \"o hospital tem leitos e uti\",\n",
    "    \"a saude publica contrata medicos\",\n",
    "    \"o medico receita medicamento para o paciente\",\n",
    "    \"o hospital de sao paulo e referencia\",\n",
    "    \"o pronto socorro fica lotado no feriado\",\n",
    "    \"a vacina previne doenca infecciosa\",\n",
    "    \"a farmacia do hospital entrega remedio\",\n",
    "    \"a triagem organiza a fila de atendimento\",\n",
    "    \"o prontuario registra historico do paciente\",\n",
    "\n",
    "    \"a amazonia abriga grande biodiversidade\",\n",
    "    \"o rio amazonas corta a floresta\",\n",
    "    \"o rio negro encontra o rio solimoes\",\n",
    "    \"a floresta tem arvores altas e lianas\",\n",
    "    \"a chuva e intensa na amazonia\",\n",
    "    \"comunidades indigenas vivem na regiao\",\n",
    "    \"o pesquisador estuda fauna e flora\",\n",
    "    \"o boto cor de rosa nada no rio\",\n",
    "    \"o peixe e alimento importante na regiao\",\n",
    "    \"o parque nacional protege a mata\",\n",
    "    \"o desmatamento ameaca a floresta\",\n",
    "    \"o ibama fiscaliza a regiao amazonica\",\n",
    "    \"o clima e umido e quente na floresta\",\n",
    "    \"barcos transportam pessoas pelos rios\",\n",
    "    \"manaus tem porto no rio negro\",\n",
    "    \"belem fica proxima da foz do amazonas\",\n",
    "\n",
    "    \"o cafe de minas gerais tem qualidade\",\n",
    "    \"a fazenda colhe graos maduros de cafe\",\n",
    "    \"a torra define o sabor do cafe\",\n",
    "    \"o barista prepara espresso na cafeteria\",\n",
    "    \"a xicara de cafe acompanha o pao de queijo\",\n",
    "    \"o brasil exporta cafe para a europa\",\n",
    "    \"o cafe especial recebe pontuacao alta\",\n",
    "    \"sao paulo tem muitas cafeterias\",\n",
    "    \"o produtor investe em irrigacao por gotejamento\",\n",
    "    \"a cooperativa vende graos torrados\",\n",
    "    \"o cafe arabica cresce em altitude\",\n",
    "    \"o cafe robusta cresce no espirito santo\",\n",
    "\n",
    "    \"brasilia e a capital do brasil\",\n",
    "    \"belo horizonte tem feira de artesanato\",\n",
    "    \"curitiba tem parque bonito e organizado\",\n",
    "    \"salvador tem carnaval famoso\",\n",
    "    \"fortaleza tem praia do futuro movimentada\",\n",
    "    \"recife tem o porto digital de tecnologia\",\n",
    "    \"porto alegre tem inverno frio\",\n",
    "    \"florianopolis tem muitas praias e trilhas\",\n",
    "    \"natal tem duna e passeio de buggy\",\n",
    "    \"gramado recebe muitos turistas no inverno\",\n",
    "\n",
    "    \"o estadio maracana recebe finais e classicos de futebol\",\n",
    "    \"o morumbi recebe shows e jogos de futebol\",\n",
    "    \"o campus da universidade tem hospital universitario\",\n",
    "    \"o hospital universitario participa de pesquisa clinica\",\n",
    "    \"a universidade organiza torneio de futebol entre cursos\",\n",
    "    \"a praia de copacabana recebe turistas e atletas\",\n",
    "    \"o laboratorio de dados analisa estatisticas do campeonato\",\n",
    "    \"o time treina na academia do clube\",\n",
    "    \"a cafeteria do campus serve cafe especial\",\n",
    "    \"o congresso de ia ocorre em sao paulo\",\n",
    "    \"o museu do futebol fica no estadio do pacaembu\",\n",
    "    \"o centro de inovacao conecta startups e universidade\",\n",
    "]"
   ]
  },
  {
   "cell_type": "code",
   "execution_count": 12,
   "id": "9511275a",
   "metadata": {
    "colab": {
     "base_uri": "https://localhost:8080/"
    },
    "executionInfo": {
     "elapsed": 698,
     "status": "ok",
     "timestamp": 1755222458164,
     "user": {
      "displayName": "Bruno Magalhaes Nogueira",
      "userId": "18320277366917905276"
     },
     "user_tz": 240
    },
    "id": "9511275a",
    "outputId": "604708ce-94a9-41a7-c0b9-aad29d94c785"
   },
   "outputs": [
    {
     "name": "stdout",
     "output_type": "stream",
     "text": [
      "Palavras no vocabulário: ['o', 'a', 'de', 'tem', 'e', 'do', 'no', 'cafe', 'rio', 'hospital', 'na', 'universidade', 'praia', 'futebol', 'recebe', 'time', 'brasil', 'em', 'laboratorio', 'é', 'sao', 'paulo', 'pesquisa', 'fica', 'universitario', 'estadio', 'campus', 'organiza', 'amazonia', 'floresta', 'regiao', 'sol', 'treina', 'copacabana', 'jogo', 'dados', 'paciente', 'da', 'para', 'porto', 'famoso', 'amazonas', 'parque', 'estatisticas', 'corta', 'ipanema', 'mar', 'finais', 'usa', 'negro', 'graos', 'analisa', 'conecta', 'vende', 'modelo', 'curso', 'com', 'medico', 'realiza', 'centro', 'vacina', 'publica', 'atendimento', 'ia', 'orla', 'professor', 'biblioteca', 'grande', 'estuda', 'bonito', 'por', 'guarda', 'movimentada', 'passeio', 'congresso', 'morumbi', 'cafeteria', 'turistas', 'selva', 'rios', 'janeiro', 'inverno', 'marcou', 'maracana', 'campeonato', 'muitas', 'especial', 'cresce', 'jogadores', 'graduacao', 'paulista', 'inteligencia', 'seminario', 'artificial', 'grupo', 'cientificos', 'artigos', 'empatou', 'densa', 'cruzeiro', 'melhor', 'pos', 'um', 'neurais', 'redes', 'joga', 'torcida', 'python', 'utiliza', 'canta', 'mestrado', 'estudante', 'orienta', 'jogador', 'semanal', 'federal', 'produz', 'computacao', 'resultados', 'apresenta', 'codigo', 'repositorio', 'distribuídas', 'representacoes', 'aprende', 'gosta', 'f1', 'acuracia', 'bonita', 'avaliacao', 'noticias', 'dataset', 'learning', 'machine', 'importantes', 'ensina', 'disciplina', 'carioca', 'informatica', 'venceu', 'aluno', 'fora', 'gol', 'lateral', 'treinador', 'caminha', 'fez', 'turista', 'dois', 'revela', 'gols', 'branca', 'areia', 'classico', 'goleiro', 'defendeu', 'penalti', 'tecnico', 'cruzamento', 'treinou', 'prova', 'ataque', 'novos', 'campista', 'meio', 'area', 'campo', 'bola', 'cruza', 'calcadao', 'surfista', 'pega', 'onda', 'popular', 'bicicleta', 'escala', 'titular', 'casa', 'cadeira', 'grama', 'tarde', 'refresca', 'brisa', 'brasileiro', 'rodada', 'coco', 'agua', 'domingo', 'arbitro', 'apita', 'atacante', 'quiosque', 'verao', 'lotam', 'banhistas', 'base', 'zagueiro', 'startups', 'projeto', 'pontuacao', 'prepara', 'espresso', 'xicara', 'acompanha', 'pao', 'queijo', 'exporta', 'europa', 'alta', 'sabor', 'cafeterias', 'produtor', 'investe', 'irrigacao', 'gotejamento', 'cooperativa', 'torrados', 'arabica', 'barista', 'define', 'robusta', 'manaus', 'amazonica', 'clima', 'umido', 'quente', 'barcos', 'transportam', 'pessoas', 'pelos', 'belem', 'torra', 'proxima', 'foz', 'minas', 'gerais', 'qualidade', 'fazenda', 'colhe', 'maduros', 'altitude', 'espirito', 'ibama', 'torneio', 'buggy', 'gramado', 'muitos', 'classicos', 'shows', 'jogos', 'participa', 'clinica', 'entre', 'natal', 'cursos', 'atletas', 'academia', 'clube', 'serve', 'ocorre', 'museu', 'pacaembu', 'duna', 'trilhas', 'santo', 'salvador', 'brasilia', 'capital', 'belo', 'horizonte', 'feira', 'artesanato', 'curitiba', 'organizado', 'carnaval', 'praias', 'fortaleza', 'futuro', 'recife', 'digital', 'tecnologia', 'alegre', 'frio', 'florianopolis', 'fiscaliza', 'ameaca', 'final', 'especialista', 'atende', 'pacientes', 'cirurgia', 'cirurgico', 'enfermeira', 'aplica', 'sala', 'consulta', 'emergencia', 'alunos', 'ambulancia', 'noite', 'exame', 'sangue', 'leitos', 'uti', 'saude', 'contrata', 'mercado', 'aproxima', 'receita', 'inovacao', 'empresta', 'livros', 'revistas', 'linguagem', 'natural', 'word2vec', 'visao', 'computacional', 'imagens', 'estagio', 'turma', 'pratica', 'classificacao', 'textos', 'servidor', 'gpu', 'extensao', 'comunidade', 'medicos', 'medicamento', 'desmatamento', 'boto', 'chuva', 'intensa', 'comunidades', 'indigenas', 'vivem', 'pesquisador', 'fauna', 'flora', 'cor', 'altas', 'rosa', 'nada', 'peixe', 'alimento', 'importante', 'nacional', 'protege', 'mata', 'lianas', 'arvores', 'referencia', 'entrega', 'pronto', 'socorro', 'lotado', 'feriado', 'previne', 'doenca', 'infecciosa', 'farmacia', 'remedio', 'solimoes', 'triagem', 'fila', 'prontuario', 'registra', 'historico', 'abriga', 'biodiversidade', 'encontra', 'anota']\n"
     ]
    }
   ],
   "source": [
    "# Treino rápido de Word2Vec com Gensim (toy)\n",
    "# corpus = [\n",
    "#     \"o brasil gosta de futebol\",\n",
    "#     \"o rio tem praia bonita\",\n",
    "#     \"sao paulo tem universidade e hospital\",\n",
    "#     \"a amazonia tem selva e rios\",\n",
    "#     \"o brasil produz cafe\",\n",
    "#     \"o rio de janeiro tem futebol e praia\",\n",
    "#     \"sao paulo tem hospital famoso\",\n",
    "#     \"a universidade pesquisa inteligencia artificial\",\n",
    "#     \"cafe do brasil é famoso\",\n",
    "#     \"a selva da amazonia é densa\",\n",
    "#     \"o hospital do rio é universitario\",\n",
    "# ]\n",
    "\n",
    "# Tokenização bem simples (minúsculas e split)\n",
    "sentences = [s.lower().split() for s in corpus]\n",
    "\n",
    "w2v = Word2Vec(\n",
    "    sentences=sentences,\n",
    "    vector_size=150,   # dimensão do embedding\n",
    "    window=3,         # tamanho do contexto\n",
    "    min_count=1,      # mantém todas as palavras do nosso mini-corpus\n",
    "    sg=1,             # 1 = skip-gram, 0 = CBOW\n",
    "    epochs=200,       # mais épocas pra compensar corpus pequeno\n",
    "    seed=42\n",
    ")\n",
    "\n",
    "print(\"Palavras no vocabulário:\", list(w2v.wv.key_to_index.keys()))"
   ]
  },
  {
   "cell_type": "code",
   "execution_count": 13,
   "id": "2a648e93",
   "metadata": {
    "colab": {
     "base_uri": "https://localhost:8080/"
    },
    "executionInfo": {
     "elapsed": 34,
     "status": "ok",
     "timestamp": 1755222557469,
     "user": {
      "displayName": "Bruno Magalhaes Nogueira",
      "userId": "18320277366917905276"
     },
     "user_tz": 240
    },
    "id": "2a648e93",
    "outputId": "052d9e7d-e3d8-46f8-8bc8-266f45ecbbbe"
   },
   "outputs": [
    {
     "name": "stdout",
     "output_type": "stream",
     "text": [
      "\n",
      "Mais próximos de 'brasil':\n",
      "  melhor           cos= 0.912\n",
      "  noticias         cos= 0.892\n",
      "  produz           cos= 0.888\n",
      "  cruzeiro         cos= 0.884\n",
      "  dataset          cos= 0.859\n",
      "\n",
      "Mais próximos de 'rio':\n",
      "  encontra         cos= 0.961\n",
      "  negro            cos= 0.950\n",
      "  solimoes         cos= 0.936\n",
      "  manaus           cos= 0.895\n",
      "  janeiro          cos= 0.834\n",
      "\n",
      "Mais próximos de 'universidade':\n",
      "  comunidade       cos= 0.894\n",
      "  federal          cos= 0.893\n",
      "  extensao         cos= 0.880\n",
      "  inteligencia     cos= 0.837\n",
      "  startups         cos= 0.836\n",
      "\n",
      "Mais próximos de 'praia':\n",
      "  areia            cos= 0.893\n",
      "  branca           cos= 0.869\n",
      "  fortaleza        cos= 0.864\n",
      "  futuro           cos= 0.850\n",
      "  copacabana       cos= 0.850\n",
      "\n",
      "Mais próximos de 'hospital':\n",
      "  universitario    cos= 0.961\n",
      "  famoso           cos= 0.920\n",
      "  atende           cos= 0.917\n",
      "  referencia       cos= 0.878\n",
      "  carnaval         cos= 0.876\n",
      "\n",
      "Mais próximos de 'amazonia':\n",
      "  selva            cos= 0.970\n",
      "  densa            cos= 0.944\n",
      "  abriga           cos= 0.941\n",
      "  biodiversidade   cos= 0.918\n",
      "  grande           cos= 0.917\n"
     ]
    }
   ],
   "source": [
    "# Funções auxiliares: similaridade por cosseno e vizinhos mais próximos\n",
    "from numpy.linalg import norm\n",
    "\n",
    "def cosine(u, v, eps=1e-9):\n",
    "    u = np.array(u); v = np.array(v)\n",
    "    return float(u.dot(v) / (norm(u)*norm(v) + eps))\n",
    "\n",
    "def nearest_neighbors(model, query, topk=5):\n",
    "    if query not in model.wv:\n",
    "        return []\n",
    "    qv = model.wv[query]\n",
    "    words = []\n",
    "    sims = []\n",
    "    for w in model.wv.index_to_key:\n",
    "        if w == query:\n",
    "            continue\n",
    "        s = cosine(qv, model.wv[w])\n",
    "        words.append(w); sims.append(s)\n",
    "    order = np.argsort(sims)[::-1][:topk]\n",
    "    return [(words[i], sims[i]) for i in order]\n",
    "\n",
    "for q in [\"brasil\", \"rio\", \"universidade\", \"praia\", \"hospital\", \"amazonia\"]:\n",
    "    print(f\"\\nMais próximos de '{q}':\")\n",
    "    for w,s in nearest_neighbors(w2v, q, topk=5):\n",
    "        print(f\"  {w:15s}  cos={s: .3f}\")"
   ]
  },
  {
   "cell_type": "markdown",
   "id": "bfead148",
   "metadata": {
    "id": "bfead148"
   },
   "source": [
    "## Analogias\n",
    "Analogias famosas do tipo *rei − homem + mulher ≈ rainha* tendem a emergir em embeddings maiores e com muito dado.  \n",
    "Com nosso corpus pequeno, veremos apenas um **exemplo didático**."
   ]
  },
  {
   "cell_type": "code",
   "execution_count": 14,
   "id": "e0374adf",
   "metadata": {
    "colab": {
     "base_uri": "https://localhost:8080/"
    },
    "executionInfo": {
     "elapsed": 42,
     "status": "ok",
     "timestamp": 1755222700320,
     "user": {
      "displayName": "Bruno Magalhaes Nogueira",
      "userId": "18320277366917905276"
     },
     "user_tz": 240
    },
    "id": "e0374adf",
    "outputId": "76aed17a-4dd6-41c9-a194-ea7efca59a15"
   },
   "outputs": [
    {
     "name": "stdout",
     "output_type": "stream",
     "text": [
      "Exemplo de analogia (qual palavra se aproxima de 'rio' - 'praia' + 'sao'):\n",
      "[('referencia', 0.8005544743314903), ('paulo', 0.7962863145191473), ('cafeterias', 0.7654731433843516), ('muitas', 0.7510178174250285), ('ocorre', 0.7107496643877513)]\n"
     ]
    }
   ],
   "source": [
    "def analogy(model, a, b, c, topk=5):\n",
    "    # a : b :: c : ?\n",
    "    if not all(w in model.wv for w in [a,b,c]):\n",
    "        return []\n",
    "    vec = model.wv[b] - model.wv[a] + model.wv[c]\n",
    "    words = []\n",
    "    sims = []\n",
    "    for w in model.wv.index_to_key:\n",
    "        if w in [a,b,c]:\n",
    "            continue\n",
    "        s = cosine(vec, model.wv[w])\n",
    "        words.append(w); sims.append(s)\n",
    "    order = np.argsort(sims)[::-1][:topk]\n",
    "    return [(words[i], sims[i]) for i in order]\n",
    "\n",
    "print(\"Exemplo de analogia (qual palavra se aproxima de 'rio' - 'praia' + 'sao'):\")\n",
    "print(analogy(w2v,  \"rio\", \"praia\",\"sao\"))"
   ]
  },
  {
   "cell_type": "markdown",
   "id": "e26065f1",
   "metadata": {
    "id": "e26065f1"
   },
   "source": [
    "> **Nota:** Em corpus real (bilhões de tokens) as relações ficam bem mais nítidas. Aqui o objetivo é ver **a mecânica**."
   ]
  },
  {
   "cell_type": "markdown",
   "id": "2dd23dd5",
   "metadata": {
    "id": "2dd23dd5"
   },
   "source": [
    "## Embedding como camada de rede (PyTorch)\n",
    "A camada `nn.Embedding(V, d)` implementa uma **tabela** onde cada índice retorna um vetor d-dimensional.  \n",
    "Vamos treinar um mini-modelo para prever uma palavra do contexto (*CBOW* simplificado) apenas para “sentir” o gradiente atualizando a tabela."
   ]
  },
  {
   "cell_type": "code",
   "execution_count": 17,
   "id": "44a1bd0e",
   "metadata": {
    "colab": {
     "base_uri": "https://localhost:8080/"
    },
    "executionInfo": {
     "elapsed": 44400,
     "status": "ok",
     "timestamp": 1755222916723,
     "user": {
      "displayName": "Bruno Magalhaes Nogueira",
      "userId": "18320277366917905276"
     },
     "user_tz": 240
    },
    "id": "44a1bd0e",
    "outputId": "9bd4768c-ba4a-4a69-fcbf-2845fc14c39e"
   },
   "outputs": [
    {
     "name": "stdout",
     "output_type": "stream",
     "text": [
      "época  50 | loss 0.3044\n",
      "época 100 | loss 0.2274\n",
      "época 150 | loss 0.2017\n",
      "Tabela de embeddings aprendida: (373, 150)\n"
     ]
    }
   ],
   "source": [
    "# Preparar dados (pares contexto->alvo) a partir do nosso corpus\n",
    "word2idx = {w:i for i,w in enumerate(w2v.wv.index_to_key)}\n",
    "idx2word = {i:w for w,i in word2idx.items()}\n",
    "V = len(word2idx)\n",
    "d = 150\n",
    "window = 3\n",
    "\n",
    "token_ids = [[word2idx[w] for w in s if w in word2idx] for s in sentences]\n",
    "\n",
    "X, Y = [], []\n",
    "for sent in token_ids:\n",
    "    for i in range(len(sent)):\n",
    "        left = max(0, i-window)\n",
    "        right = min(len(sent), i+window+1)\n",
    "        ctx = [sent[j] for j in range(left, right) if j != i]\n",
    "        if not ctx:\n",
    "            continue\n",
    "        X.append(ctx)\n",
    "        Y.append(sent[i])\n",
    "\n",
    "# Pad de comprimento variável num jeito simples: média dos embeddings de contexto\n",
    "# (para simplificar, dentro do forward vamos computar a média de embeddings)\n",
    "X_lens = np.array([len(x) for x in X])\n",
    "\n",
    "# Modelo CBOW simplificado\n",
    "class CBOW(nn.Module):\n",
    "    def __init__(self, vocab_size, d):\n",
    "        super().__init__()\n",
    "        self.emb = nn.Embedding(vocab_size, d)\n",
    "        self.lin = nn.Linear(d, vocab_size)\n",
    "    def forward(self, ctx_batch):\n",
    "        # ctx_batch: list of lists (índices)\n",
    "        max_len = max(len(c) for c in ctx_batch)\n",
    "        padded = []\n",
    "        for c in ctx_batch:\n",
    "            if len(c) < max_len:\n",
    "                c = c + [0]*(max_len - len(c))\n",
    "            padded.append(c)\n",
    "        x = torch.tensor(padded, dtype=torch.long)\n",
    "        E = self.emb(x)                   # [B, L, d]\n",
    "        m = E.mean(dim=1)                 # [B, d]\n",
    "        logits = self.lin(m)              # [B, V]\n",
    "        return logits\n",
    "\n",
    "model = CBOW(V, d)\n",
    "opt = optim.Adam(model.parameters(), lr=0.05)\n",
    "loss_fn = nn.CrossEntropyLoss()\n",
    "\n",
    "# Treino rápido\n",
    "def batchify(X, Y, bs=16):\n",
    "    for i in range(0, len(X), bs):\n",
    "        yield X[i:i+bs], Y[i:i+bs]\n",
    "\n",
    "for epoch in range(150):\n",
    "    total = 0.0\n",
    "    for xb, yb in batchify(X, Y, bs=8):\n",
    "        opt.zero_grad()\n",
    "        logits = model(xb)\n",
    "        y = torch.tensor(yb, dtype=torch.long)\n",
    "        loss = loss_fn(logits, y)\n",
    "        loss.backward()\n",
    "        opt.step()\n",
    "        total += float(loss)\n",
    "    if (epoch+1) % 50 == 0:\n",
    "        print(f\"época {epoch+1:3d} | loss {total/len(X):.4f}\")\n",
    "\n",
    "# Extra: extrair embeddings aprendidos\n",
    "E_cbow = model.emb.weight.detach().numpy()\n",
    "print(\"Tabela de embeddings aprendida:\", E_cbow.shape)"
   ]
  },
  {
   "cell_type": "code",
   "execution_count": 18,
   "id": "58a1404f",
   "metadata": {
    "colab": {
     "base_uri": "https://localhost:8080/"
    },
    "executionInfo": {
     "elapsed": 68,
     "status": "ok",
     "timestamp": 1755222943363,
     "user": {
      "displayName": "Bruno Magalhaes Nogueira",
      "userId": "18320277366917905276"
     },
     "user_tz": 240
    },
    "id": "58a1404f",
    "outputId": "2b64bcad-a36b-4f15-db63-2a38a05cca29"
   },
   "outputs": [
    {
     "name": "stdout",
     "output_type": "stream",
     "text": [
      "\n",
      "Vizinhos (CBOW) de 'brasil':\n",
      "  cruzeiro         cos= 0.543\n",
      "  rio              cos= 0.507\n",
      "  fortaleza        cos= 0.472\n",
      "  mercado          cos= 0.467\n",
      "  sabor            cos= 0.465\n",
      "\n",
      "Vizinhos (CBOW) de 'rio':\n",
      "  brasil           cos= 0.507\n",
      "  cruzeiro         cos= 0.443\n",
      "  da               cos= 0.403\n",
      "  sol              cos= 0.374\n",
      "  analisa          cos= 0.367\n",
      "\n",
      "Vizinhos (CBOW) de 'universidade':\n",
      "  leitos           cos= 0.569\n",
      "  mar              cos= 0.559\n",
      "  biblioteca       cos= 0.533\n",
      "  intensa          cos= 0.479\n",
      "  projeto          cos= 0.476\n",
      "\n",
      "Vizinhos (CBOW) de 'praia':\n",
      "  orla             cos= 0.604\n",
      "  mar              cos= 0.550\n",
      "  recife           cos= 0.440\n",
      "  selva            cos= 0.426\n",
      "  universidade     cos= 0.421\n"
     ]
    }
   ],
   "source": [
    "# Inspecionar vizinhos no embedding do CBOW treinado\n",
    "def nearest_from_matrix(E, word, topk=5):\n",
    "    if word not in word2idx:\n",
    "        return []\n",
    "    i = word2idx[word]\n",
    "    q = E[i]\n",
    "    sims = []\n",
    "    words = []\n",
    "    for j in range(V):\n",
    "        if j == i:\n",
    "            continue\n",
    "        s = cosine(q, E[j])\n",
    "        sims.append(s); words.append(idx2word[j])\n",
    "    order = np.argsort(sims)[::-1][:topk]\n",
    "    return [(words[k], sims[k]) for k in order]\n",
    "\n",
    "for q in [\"brasil\", \"rio\", \"universidade\", \"praia\"]:\n",
    "    print(f\"\\nVizinhos (CBOW) de '{q}':\")\n",
    "    for w,s in nearest_from_matrix(E_cbow, q, 5):\n",
    "        print(f\"  {w:15s}  cos={s: .3f}\")"
   ]
  },
  {
   "cell_type": "markdown",
   "id": "7a42c74f",
   "metadata": {
    "id": "7a42c74f"
   },
   "source": [
    "## Sub-palavras e OOV\n",
    "- *OOV* (*Out-Of-Vocabulary*): palavras não vistas no treino.  \n",
    "- **fastText** usa **n-gramas de caracteres**: permite vetorizar “brasilão” mesmo sem tê-la visto, somando vetores de sub-palavras.  \n",
    "Abaixo, um treino rápido **opcional** (pode demorar ~alguns segundos)."
   ]
  },
  {
   "cell_type": "code",
   "execution_count": 19,
   "id": "d2276380",
   "metadata": {
    "colab": {
     "base_uri": "https://localhost:8080/"
    },
    "executionInfo": {
     "elapsed": 1505,
     "status": "ok",
     "timestamp": 1755222990599,
     "user": {
      "displayName": "Bruno Magalhaes Nogueira",
      "userId": "18320277366917905276"
     },
     "user_tz": 240
    },
    "id": "d2276380",
    "outputId": "cac01f88-b148-4e71-9d82-fb34df3b3d29"
   },
   "outputs": [
    {
     "name": "stdout",
     "output_type": "stream",
     "text": [
      "\n",
      "Vizinhos (fastText) de 'brasil':\n",
      "  brasilia         cos= 0.999\n",
      "  brasileiro       cos= 0.998\n",
      "  cruzeiro         cos= 0.998\n",
      "  campus           cos= 0.998\n",
      "  melhor           cos= 0.998\n",
      "\n",
      "Vizinhos (fastText) de 'brasilao':\n",
      "  brasilia         cos= 1.000\n",
      "  brasil           cos= 0.999\n",
      "  brasileiro       cos= 0.999\n",
      "  cruzeiro         cos= 0.999\n",
      "  noticias         cos= 0.999\n",
      "\n",
      "Vizinhos (fastText) de 'universidade':\n",
      "  biodiversidade   cos= 0.999\n",
      "  universitario    cos= 0.999\n",
      "  hospital         cos= 0.998\n",
      "  capital          cos= 0.997\n",
      "  selva            cos= 0.996\n",
      "\n",
      "Vizinhos (fastText) de 'universitario':\n",
      "  hospital         cos= 0.999\n",
      "  universidade     cos= 0.999\n",
      "  biodiversidade   cos= 0.998\n",
      "  capital          cos= 0.998\n",
      "  famoso           cos= 0.996\n"
     ]
    }
   ],
   "source": [
    "try:\n",
    "    from gensim.models.fasttext import FastText\n",
    "    ft = FastText(sentences, vector_size=50, window=3, min_count=1, sg=1, epochs=100)\n",
    "    for q in [\"brasil\", \"brasilao\", \"universidade\", \"universitario\"]:\n",
    "        print(f\"\\nVizinhos (fastText) de '{q}':\")\n",
    "        if q in ft.wv:\n",
    "            nnft = ft.wv.most_similar(q, topn=5)\n",
    "            for w,s in nnft:\n",
    "                print(f\"  {w:15s}  cos={s: .3f}\")\n",
    "        else:\n",
    "            print(\"  (palavra não está no vocabulário, mas fastText ainda gera vetor por sub-palavras)\")\n",
    "            vec = ft.wv.get_vector(q)  # ainda retorna vetor!\n",
    "            # vamos medir distância desse vetor para algumas palavras conhecidas\n",
    "            sims = [(w, cosine(vec, ft.wv[w])) for w in vocab if w in ft.wv]\n",
    "            sims = sorted(sims, key=lambda x: x[1], reverse=True)[:5]\n",
    "            for w,s in sims:\n",
    "                print(f\"  {w:15s}  cos={s: .3f}\")\n",
    "except Exception as e:\n",
    "    print(\"fastText não disponível neste ambiente:\", e)"
   ]
  },
  {
   "cell_type": "markdown",
   "id": "4742b596",
   "metadata": {
    "id": "4742b596"
   },
   "source": [
    "## Embeddings de sentenças\n",
    "Duas formas simples:\n",
    "1. **Média** dos embeddings de palavras (rápido, baseline forte).  \n",
    "2. **Modelo pré-treinado** (ex.: *Sentence-Transformers* multilíngue)."
   ]
  },
  {
   "cell_type": "code",
   "execution_count": 20,
   "id": "_jHtofXe0c5R",
   "metadata": {
    "colab": {
     "base_uri": "https://localhost:8080/"
    },
    "executionInfo": {
     "elapsed": 40,
     "status": "ok",
     "timestamp": 1755223116421,
     "user": {
      "displayName": "Bruno Magalhaes Nogueira",
      "userId": "18320277366917905276"
     },
     "user_tz": 240
    },
    "id": "_jHtofXe0c5R",
    "outputId": "b9724791-9351-4eee-d0e4-fc4d512da757"
   },
   "outputs": [
    {
     "name": "stdout",
     "output_type": "stream",
     "text": [
      "\n",
      "Consulta: praia no rio\n",
      "  → praia lotada no rio de janeiro                                          cos=0.979\n",
      "  → cafe do brasil é exportado                                              cos=0.418\n",
      "  → hospital universitario em sao paulo                                     cos=0.409\n",
      "\n",
      "Consulta: universidade e hospital\n",
      "  → hospital universitario em sao paulo                                     cos=0.814\n",
      "  → pesquisa em inteligencia artificial na universidade                     cos=0.801\n",
      "  → passeio na amazonia e na selva                                          cos=0.682\n",
      "\n",
      "Consulta: selva amazonia\n",
      "  → passeio na amazonia e na selva                                          cos=0.837\n",
      "  → pesquisa em inteligencia artificial na universidade                     cos=0.637\n",
      "  → cafe do brasil é exportado                                              cos=0.526\n",
      "\n",
      "Consulta: cafe brasileiro\n",
      "  → cafe do brasil é exportado                                              cos=0.822\n",
      "  → praia lotada no rio de janeiro                                          cos=0.604\n",
      "  → pesquisa em inteligencia artificial na universidade                     cos=0.545\n"
     ]
    }
   ],
   "source": [
    "# Média de palavras (usando o Word2Vec treinado)\n",
    "def sent_embed_mean(sent, model):\n",
    "    toks = [w for w in sent.lower().split() if w in model.wv]\n",
    "    if not toks:\n",
    "        return np.zeros(model.vector_size)\n",
    "    mat = np.stack([model.wv[w] for w in toks])\n",
    "    return mat.mean(axis=0)\n",
    "\n",
    "docs = [\n",
    "    \"praia lotada no rio de janeiro\",\n",
    "    \"hospital universitario em sao paulo\",\n",
    "    \"pesquisa em inteligencia artificial na universidade\",\n",
    "    \"cafe do brasil é exportado\",\n",
    "    \"passeio na amazonia e na selva\"\n",
    "]\n",
    "D = np.stack([sent_embed_mean(s, w2v) for s in docs])\n",
    "\n",
    "def search(query, k=3):\n",
    "    qv = sent_embed_mean(query, w2v)\n",
    "    scores = [cosine(qv, D[i]) for i in range(len(docs))]\n",
    "    order = np.argsort(scores)[::-1][:k]\n",
    "    return [(docs[i], scores[i]) for i in order]\n",
    "\n",
    "for q in [\"praia no rio\", \"universidade e hospital\", \"selva amazonia\", \"cafe brasileiro\"]:\n",
    "    print(f\"\\nConsulta: {q}\")\n",
    "    for d,s in search(q, 3):\n",
    "        print(f\"  → {d:70s}  cos={s:.3f}\")"
   ]
  },
  {
   "cell_type": "code",
   "execution_count": 21,
   "id": "a4e6a354",
   "metadata": {
    "colab": {
     "base_uri": "https://localhost:8080/",
     "height": 582
    },
    "executionInfo": {
     "elapsed": 5269,
     "status": "error",
     "timestamp": 1755223177752,
     "user": {
      "displayName": "Bruno Magalhaes Nogueira",
      "userId": "18320277366917905276"
     },
     "user_tz": 240
    },
    "id": "a4e6a354",
    "outputId": "902eb841-3805-4e0a-9d56-1beec899b594"
   },
   "outputs": [
    {
     "ename": "ImportError",
     "evalue": "cannot import name 'PreTrainedModel' from 'transformers' (/usr/local/lib/python3.11/dist-packages/transformers/__init__.py)",
     "output_type": "error",
     "traceback": [
      "\u001b[0;31m---------------------------------------------------------------------------\u001b[0m",
      "\u001b[0;31mImportError\u001b[0m                               Traceback (most recent call last)",
      "\u001b[0;32m/tmp/ipython-input-1976559581.py\u001b[0m in \u001b[0;36m<cell line: 0>\u001b[0;34m()\u001b[0m\n\u001b[1;32m      1\u001b[0m \u001b[0;31m# Embeddings de sentenças com modelo pré-treinado (multilíngue)\u001b[0m\u001b[0;34m\u001b[0m\u001b[0;34m\u001b[0m\u001b[0m\n\u001b[1;32m      2\u001b[0m \u001b[0;31m# AVISO: baixa ~100MB na primeira vez.\u001b[0m\u001b[0;34m\u001b[0m\u001b[0;34m\u001b[0m\u001b[0m\n\u001b[0;32m----> 3\u001b[0;31m \u001b[0;32mfrom\u001b[0m \u001b[0msentence_transformers\u001b[0m \u001b[0;32mimport\u001b[0m \u001b[0mSentenceTransformer\u001b[0m\u001b[0;34m,\u001b[0m \u001b[0mutil\u001b[0m\u001b[0;34m\u001b[0m\u001b[0;34m\u001b[0m\u001b[0m\n\u001b[0m\u001b[1;32m      4\u001b[0m \u001b[0;32mtry\u001b[0m\u001b[0;34m:\u001b[0m\u001b[0;34m\u001b[0m\u001b[0;34m\u001b[0m\u001b[0m\n\u001b[1;32m      5\u001b[0m     \u001b[0mmodel_st\u001b[0m \u001b[0;34m=\u001b[0m \u001b[0mSentenceTransformer\u001b[0m\u001b[0;34m(\u001b[0m\u001b[0;34m\"sentence-transformers/paraphrase-multilingual-MiniLM-L12-v2\"\u001b[0m\u001b[0;34m)\u001b[0m\u001b[0;34m\u001b[0m\u001b[0;34m\u001b[0m\u001b[0m\n",
      "\u001b[0;32m/usr/local/lib/python3.11/dist-packages/sentence_transformers/__init__.py\u001b[0m in \u001b[0;36m<module>\u001b[0;34m\u001b[0m\n\u001b[1;32m     13\u001b[0m     \u001b[0mexport_static_quantized_openvino_model\u001b[0m\u001b[0;34m,\u001b[0m\u001b[0;34m\u001b[0m\u001b[0;34m\u001b[0m\u001b[0m\n\u001b[1;32m     14\u001b[0m )\n\u001b[0;32m---> 15\u001b[0;31m from sentence_transformers.cross_encoder import (\n\u001b[0m\u001b[1;32m     16\u001b[0m     \u001b[0mCrossEncoder\u001b[0m\u001b[0;34m,\u001b[0m\u001b[0;34m\u001b[0m\u001b[0;34m\u001b[0m\u001b[0m\n\u001b[1;32m     17\u001b[0m     \u001b[0mCrossEncoderModelCardData\u001b[0m\u001b[0;34m,\u001b[0m\u001b[0;34m\u001b[0m\u001b[0;34m\u001b[0m\u001b[0m\n",
      "\u001b[0;32m/usr/local/lib/python3.11/dist-packages/sentence_transformers/cross_encoder/__init__.py\u001b[0m in \u001b[0;36m<module>\u001b[0;34m\u001b[0m\n\u001b[1;32m      1\u001b[0m \u001b[0;32mfrom\u001b[0m \u001b[0m__future__\u001b[0m \u001b[0;32mimport\u001b[0m \u001b[0mannotations\u001b[0m\u001b[0;34m\u001b[0m\u001b[0;34m\u001b[0m\u001b[0m\n\u001b[1;32m      2\u001b[0m \u001b[0;34m\u001b[0m\u001b[0m\n\u001b[0;32m----> 3\u001b[0;31m \u001b[0;32mfrom\u001b[0m \u001b[0;34m.\u001b[0m\u001b[0mCrossEncoder\u001b[0m \u001b[0;32mimport\u001b[0m \u001b[0mCrossEncoder\u001b[0m\u001b[0;34m\u001b[0m\u001b[0;34m\u001b[0m\u001b[0m\n\u001b[0m\u001b[1;32m      4\u001b[0m \u001b[0;32mfrom\u001b[0m \u001b[0;34m.\u001b[0m\u001b[0mmodel_card\u001b[0m \u001b[0;32mimport\u001b[0m \u001b[0mCrossEncoderModelCardData\u001b[0m\u001b[0;34m\u001b[0m\u001b[0;34m\u001b[0m\u001b[0m\n\u001b[1;32m      5\u001b[0m \u001b[0;32mfrom\u001b[0m \u001b[0;34m.\u001b[0m\u001b[0mtrainer\u001b[0m \u001b[0;32mimport\u001b[0m \u001b[0mCrossEncoderTrainer\u001b[0m\u001b[0;34m\u001b[0m\u001b[0;34m\u001b[0m\u001b[0m\n",
      "\u001b[0;32m/usr/local/lib/python3.11/dist-packages/sentence_transformers/cross_encoder/CrossEncoder.py\u001b[0m in \u001b[0;36m<module>\u001b[0;34m\u001b[0m\n\u001b[1;32m     14\u001b[0m \u001b[0;32mfrom\u001b[0m \u001b[0mtorch\u001b[0m \u001b[0;32mimport\u001b[0m \u001b[0mnn\u001b[0m\u001b[0;34m\u001b[0m\u001b[0;34m\u001b[0m\u001b[0m\n\u001b[1;32m     15\u001b[0m \u001b[0;32mfrom\u001b[0m \u001b[0mtqdm\u001b[0m\u001b[0;34m.\u001b[0m\u001b[0mautonotebook\u001b[0m \u001b[0;32mimport\u001b[0m \u001b[0mtrange\u001b[0m\u001b[0;34m\u001b[0m\u001b[0;34m\u001b[0m\u001b[0m\n\u001b[0;32m---> 16\u001b[0;31m from transformers import (\n\u001b[0m\u001b[1;32m     17\u001b[0m     \u001b[0mAutoConfig\u001b[0m\u001b[0;34m,\u001b[0m\u001b[0;34m\u001b[0m\u001b[0;34m\u001b[0m\u001b[0m\n\u001b[1;32m     18\u001b[0m     \u001b[0mAutoModelForSequenceClassification\u001b[0m\u001b[0;34m,\u001b[0m\u001b[0;34m\u001b[0m\u001b[0;34m\u001b[0m\u001b[0m\n",
      "\u001b[0;31mImportError\u001b[0m: cannot import name 'PreTrainedModel' from 'transformers' (/usr/local/lib/python3.11/dist-packages/transformers/__init__.py)",
      "",
      "\u001b[0;31m---------------------------------------------------------------------------\u001b[0;32m\nNOTE: If your import is failing due to a missing package, you can\nmanually install dependencies using either !pip or !apt.\n\nTo view examples of installing some common dependencies, click the\n\"Open Examples\" button below.\n\u001b[0;31m---------------------------------------------------------------------------\u001b[0m\n"
     ]
    }
   ],
   "source": [
    "# Embeddings de sentenças com modelo pré-treinado (multilíngue)\n",
    "# AVISO: baixa ~100MB na primeira vez.\n",
    "from sentence_transformers import SentenceTransformer, util\n",
    "try:\n",
    "    model_st = SentenceTransformer(\"sentence-transformers/paraphrase-multilingual-MiniLM-L12-v2\")\n",
    "    E_docs = model_st.encode(docs, convert_to_tensor=True, normalize_embeddings=True)\n",
    "    def search_st(query, k=3):\n",
    "        q = model_st.encode([query], convert_to_tensor=True, normalize_embeddings=True)\n",
    "        sims = util.cos_sim(q, E_docs).cpu().numpy().ravel()\n",
    "        order = np.argsort(sims)[::-1][:k]\n",
    "        return [(docs[i], float(sims[i])) for i in order]\n",
    "    for q in [\"praia no rio\", \"universidade e hospital\", \"selva amazonia\", \"cafe brasileiro\"]:\n",
    "        print(f\"\\n(Pré-treinado) Consulta: {q}\")\n",
    "        for d,s in search_st(q, 3):\n",
    "            print(f\"  → {d:70s}  cos={s:.3f}\")\n",
    "except Exception as e:\n",
    "    print(\"Sentence-Transformers indisponível/opcional falhou:\", e)"
   ]
  },
  {
   "cell_type": "markdown",
   "id": "353cbd0f",
   "metadata": {
    "id": "353cbd0f"
   },
   "source": [
    "## Visualização (PCA e t-SNE)\n",
    "Visualizações ajudam a intuir agrupamentos semânticos. Vamos projetar algumas palavras."
   ]
  },
  {
   "cell_type": "code",
   "execution_count": 22,
   "id": "c2717793",
   "metadata": {
    "colab": {
     "base_uri": "https://localhost:8080/",
     "height": 919
    },
    "executionInfo": {
     "elapsed": 1016,
     "status": "ok",
     "timestamp": 1755223191170,
     "user": {
      "displayName": "Bruno Magalhaes Nogueira",
      "userId": "18320277366917905276"
     },
     "user_tz": 240
    },
    "id": "c2717793",
    "outputId": "fd7b74b3-748d-49bb-87a8-e2872077f317"
   },
   "outputs": [
    {
     "data": {
      "image/png": "[encoded data removed]",
      "text/plain": [
       "<Figure size 600x500 with 1 Axes>"
      ]
     },
     "metadata": {},
     "output_type": "display_data"
    },
    {
     "data": {
      "image/png": "[encoded data removed]",
      "text/plain": [
       "<Figure size 600x500 with 1 Axes>"
      ]
     },
     "metadata": {},
     "output_type": "display_data"
    }
   ],
   "source": [
    "words_to_plot = [\"brasil\",\"rio\",\"sao\",\"paulo\",\"sao_paulo\",\"praia\",\"futebol\",\"universidade\",\"hospital\",\"amazonia\",\"selva\",\"cafe\"]\n",
    "# normalizar nomes para o vocabulário do modelo w2v\n",
    "words_to_plot = [w for w in words_to_plot if w in w2v.wv]\n",
    "\n",
    "X = np.stack([w2v.wv[w] for w in words_to_plot])\n",
    "\n",
    "# PCA\n",
    "pca = PCA(n_components=2, random_state=0)\n",
    "X2 = pca.fit_transform(X)\n",
    "\n",
    "plt.figure(figsize=(6,5))\n",
    "plt.scatter(X2[:,0], X2[:,1], c=\"tab:green\")\n",
    "for i,w in enumerate(words_to_plot):\n",
    "    plt.annotate(w, (X2[i,0]+0.01, X2[i,1]+0.01), fontsize=9)\n",
    "plt.title(\"Projeção PCA dos embeddings (Word2Vec)\")\n",
    "plt.grid(alpha=0.3)\n",
    "plt.show()\n",
    "\n",
    "# t-SNE (pode demorar um pouco com muitos pontos; aqui é pequeno)\n",
    "tsne = TSNE(n_components=2, perplexity=5, learning_rate='auto', init='pca', random_state=0)\n",
    "X3 = tsne.fit_transform(X)\n",
    "plt.figure(figsize=(6,5))\n",
    "plt.scatter(X3[:,0], X3[:,1], c=\"tab:purple\")\n",
    "for i,w in enumerate(words_to_plot):\n",
    "    plt.annotate(w, (X3[i,0]+0.8, X3[i,1]+0.8), fontsize=9)\n",
    "plt.title(\"Projeção t-SNE dos embeddings (Word2Vec)\")\n",
    "plt.grid(alpha=0.3)\n",
    "plt.show()"
   ]
  },
  {
   "cell_type": "markdown",
   "id": "fab7499b",
   "metadata": {
    "id": "fab7499b"
   },
   "source": [
    "## Miniaplicação: busca semântica interativa (baseline)\n",
    "Dado um conjunto de frases/documentos, calculem embeddings (média de palavras) e retornem os mais parecidos para uma consulta."
   ]
  },
  {
   "cell_type": "code",
   "execution_count": 23,
   "id": "360b800a",
   "metadata": {
    "colab": {
     "base_uri": "https://localhost:8080/"
    },
    "executionInfo": {
     "elapsed": 8,
     "status": "ok",
     "timestamp": 1755223226745,
     "user": {
      "displayName": "Bruno Magalhaes Nogueira",
      "userId": "18320277366917905276"
     },
     "user_tz": 240
    },
    "id": "360b800a",
    "outputId": "5e251c8b-78c8-40a4-ac8a-175c2a42853c"
   },
   "outputs": [
    {
     "name": "stdout",
     "output_type": "stream",
     "text": [
      "\n",
      "Consulta: futebol no rio\n",
      "  → ingressos para jogo de futebol no maracana                    cos=0.896\n",
      "  → cafeteria tradicional no centro                               cos=0.797\n",
      "  → praias de copacabana e ipanema                                cos=0.643\n",
      "\n",
      "Consulta: praia\n",
      "  → praias de copacabana e ipanema                                cos=0.799\n",
      "  → ingressos para jogo de futebol no maracana                    cos=0.581\n",
      "  → cafeteria tradicional no centro                               cos=0.578\n",
      "\n",
      "Consulta: selva amazonia\n",
      "  → trilha na floresta da amazonia                                cos=0.922\n",
      "  → pesquisa de ia na universidade federal                        cos=0.563\n",
      "  → praias de copacabana e ipanema                                cos=0.546\n",
      "\n",
      "Consulta: universidade ia\n",
      "  → pesquisa de ia na universidade federal                        cos=0.906\n",
      "  → hospital publico em sao paulo                                 cos=0.832\n",
      "  → praias de copacabana e ipanema                                cos=0.741\n",
      "\n",
      "Consulta: cafe\n",
      "  → ingressos para jogo de futebol no maracana                    cos=0.592\n",
      "  → cafeteria tradicional no centro                               cos=0.577\n",
      "  → pesquisa de ia na universidade federal                        cos=0.403\n"
     ]
    }
   ],
   "source": [
    "# Vocês podem alterar a lista 'docs2' e testar consultas.\n",
    "docs2 = [\n",
    "    \"ingressos para jogo de futebol no maracana\",\n",
    "    \"trilha na floresta da amazonia\",\n",
    "    \"praias de copacabana e ipanema\",\n",
    "    \"hospital publico em sao paulo\",\n",
    "    \"pesquisa de ia na universidade federal\",\n",
    "    \"cafeteria tradicional no centro\"\n",
    "]\n",
    "E2 = np.stack([sent_embed_mean(s, w2v) for s in docs2])\n",
    "\n",
    "def search_docs(query, docs_list, E, k=3):\n",
    "    qv = sent_embed_mean(query, w2v)\n",
    "    scores = [cosine(qv, E[i]) for i in range(len(docs_list))]\n",
    "    order = np.argsort(scores)[::-1][:k]\n",
    "    return [(docs_list[i], scores[i]) for i in order]\n",
    "\n",
    "# Exemplo\n",
    "for q in [\"futebol no rio\", \"praia\", \"selva amazonia\", \"universidade ia\", \"cafe\"]:\n",
    "    print(f\"\\nConsulta: {q}\")\n",
    "    for d,s in search_docs(q, docs2, E2, 3):\n",
    "        print(f\"  → {d:60s}  cos={s:.3f}\")"
   ]
  },
  {
   "cell_type": "markdown",
   "id": "44df8d37",
   "metadata": {
    "id": "44df8d37"
   },
   "source": [
    "## Notas críticas (viés e limitações)\n",
    "- **Viés**: embeddings refletem padrões do corpus. Se os dados têm estereótipos, o vetor também terá.  \n",
    "- **Contexto**: embeddings “estáticos” (Word2Vec/GloVe) **não** diferenciam sentidos: *banco* (sentar) vs *banco* (financeiro).  \n",
    "- **Solução moderna**: embeddings **contextuais** (BERT/Transformers) geram vetores **por ocorrência**."
   ]
  },
  {
   "cell_type": "markdown",
   "id": "445739d7",
   "metadata": {
    "id": "445739d7"
   },
   "source": [
    "## Resumo rápido\n",
    "- Embeddings: mapeiam palavras/sentenças para vetores **densos** que capturam **similaridade semântica**.  \n",
    "- É possível **treinar** (Word2Vec/CBOW/Skip-gram) ou **usar pré-treinados** (fastText, Sentence-Transformers).  \n",
    "- Ferramentas: similaridade por cosseno, vizinhos, analogias, PCA/t-SNE.  \n",
    "- Cuidados: viés, OOV, sentidos múltiplos."
   ]
  },
  {
   "cell_type": "markdown",
   "id": "af4c8e88",
   "metadata": {
    "id": "af4c8e88"
   },
   "source": [
    "# Exercícios"
   ]
  },
  {
   "cell_type": "code",
   "execution_count": null,
   "id": "39fe16ac",
   "metadata": {
    "id": "39fe16ac"
   },
   "outputs": [],
   "source": [
    "# - Modifiquem o corpus adicionando 5–10 frases novas com tema de sua escolha (ex.: esportes, saúde, educação).\n",
    "# - Re-treiem o Word2Vec (mudem window/vector_size/epochs) e observem:\n",
    "#   a) Vizinhos mais próximos de 3 palavras.\n",
    "#   b) Mudanças na visualização PCA.\n",
    "# Dica: copiem e ajustem as células do treino e da visualização.\n"
   ]
  },
  {
   "cell_type": "code",
   "execution_count": null,
   "id": "63ba74e2",
   "metadata": {
    "id": "63ba74e2"
   },
   "outputs": [],
   "source": [
    "# Implementem uma função 'most_similar_to_set(positivos, negativos, topk=5)' no embedding do w2v,\n",
    "# que calcula: v = sum(positivos) - sum(negativos), e retorna vizinhos de v.\n",
    "# Testem casos como: positivos=['rio','praia'], negativos=['selva']."
   ]
  },
  {
   "cell_type": "markdown",
   "id": "3338cc24",
   "metadata": {
    "id": "3338cc24"
   },
   "source": [
    "## Leituras e recursos adicionais\n",
    "**Artigos / docs (abertos):**\n",
    "- Mikolov, T., Chen, K., Corrado, G., & Dean, J. (2013). *Efficient Estimation of Word Representations in Vector Space* (Word2Vec).  \n",
    "- Pennington, J., Socher, R., & Manning, C. D. (2014). *GloVe: Global Vectors for Word Representation*.  \n",
    "- Bojanowski, P., Grave, E., Joulin, A., & Mikolov, T. (2017). *Enriching Word Vectors with Subword Information* (fastText).  \n",
    "- Reimers, N., & Gurevych, I. (2019). *Sentence-BERT: Sentence Embeddings using Siamese BERT-Networks*.  \n",
    "- Goldberg, Y. (2016). *A Primer on Neural Network Models for Natural Language Processing*."
   ]
  },
  {
   "cell_type": "code",
   "execution_count": null,
   "id": "88b17e9a",
   "metadata": {
    "id": "88b17e9a"
   },
   "outputs": [],
   "source": []
  }
 ],
 "metadata": {
  "colab": {
   "provenance": []
  },
  "kernelspec": {
   "display_name": "env-misc",
   "language": "python",
   "name": "python3"
  },
  "language_info": {
   "codemirror_mode": {
    "name": "ipython",
    "version": 3
   },
   "file_extension": ".py",
   "mimetype": "text/x-python",
   "name": "python",
   "nbconvert_exporter": "python",
   "pygments_lexer": "ipython3",
   "version": "3.11.11"
  }
 },
 "nbformat": 4,
 "nbformat_minor": 5
}
